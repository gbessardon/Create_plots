{
  "nbformat": 4,
  "nbformat_minor": 0,
  "metadata": {
    "colab": {
      "name": "open_LUCAS.ipynb",
      "provenance": [],
      "toc_visible": true,
      "authorship_tag": "ABX9TyOHwFz0ZeC/4v8tYxrpYiaF",
      "include_colab_link": true
    },
    "kernelspec": {
      "display_name": "Python 3",
      "name": "python3"
    }
  },
  "cells": [
    {
      "cell_type": "markdown",
      "metadata": {
        "id": "view-in-github",
        "colab_type": "text"
      },
      "source": [
        "<a href=\"https://colab.research.google.com/github/gbessardon/Create_plots/blob/main/open_LUCAS.ipynb\" target=\"_parent\"><img src=\"https://colab.research.google.com/assets/colab-badge.svg\" alt=\"Open In Colab\"/></a>"
      ]
    },
    {
      "cell_type": "markdown",
      "metadata": {
        "id": "m0M_liqWtcDD"
      },
      "source": [
        "# Relevant litterature\n",
        "## LUCAS Copernicus 2018: Earth Observation relevant in-situ data on land cover throughout the European Union paper\n",
        "https://essd.copernicus.org/preprints/essd-2020-178/essd-2020-178.pdf\n",
        "\n",
        "\n",
        "\n",
        "\n",
        "## csv labels description\n",
        "https://ec.europa.eu/eurostat/documents/205002/8072634/LUCAS2018-RecordDescriptor-190611.pdf\n",
        "\n",
        "## C3 classification Land cover & land use\n",
        "\n",
        "https://ec.europa.eu/eurostat/documents/205002/8072634/LUCAS2018-C3-Classification.pdf\n",
        "\n",
        "## Technical reference document C5 Plant Identification Guide\n",
        "\n",
        "https://ec.europa.eu/eurostat/documents/205002/8072634/LUCAS2018-C5-PlantIdentificationGuide.pdf"
      ]
    },
    {
      "cell_type": "markdown",
      "metadata": {
        "id": "LZ-O88W8MBlH"
      },
      "source": [
        "# Declare variable and file location"
      ]
    },
    {
      "cell_type": "markdown",
      "metadata": {
        "id": "b4wQbDlSN6Bi"
      },
      "source": [
        "## Running environment options"
      ]
    },
    {
      "cell_type": "code",
      "metadata": {
        "id": "XJWc6DY9MG-i"
      },
      "source": [
        "colab=1 # 1 running on google collab\n",
        "drive=1 # 1 need to mount google drive"
      ],
      "execution_count": 2,
      "outputs": []
    },
    {
      "cell_type": "markdown",
      "metadata": {
        "id": "TJMxXKuzN-dB"
      },
      "source": [
        "## LUCAS file location"
      ]
    },
    {
      "cell_type": "code",
      "metadata": {
        "id": "EuN9LJJrOIHu"
      },
      "source": [
        "fnshp='/content/drive/MyDrive/LUCAS2018/LUCAS_2018_Copernicus_polygons.shp'\n",
        "fncsv='/content/drive/MyDrive/LUCAS2018/LUCAS_2018_Copernicus_attributes.csv'"
      ],
      "execution_count": 3,
      "outputs": []
    },
    {
      "cell_type": "markdown",
      "metadata": {
        "id": "E8R3EdQ-ORhX"
      },
      "source": [
        "## Latitude Longitude min max"
      ]
    },
    {
      "cell_type": "code",
      "metadata": {
        "id": "A0kBTUmGOLW-"
      },
      "source": [
        "latmin=50\n",
        "latmax=56\n",
        "lonmin=-11\n",
        "lonmax=-4"
      ],
      "execution_count": 4,
      "outputs": []
    },
    {
      "cell_type": "markdown",
      "metadata": {
        "id": "uqk_WAGMLyBX"
      },
      "source": [
        "# Run on collab and drive"
      ]
    },
    {
      "cell_type": "markdown",
      "metadata": {
        "id": "-putHlFQLYnQ"
      },
      "source": [
        "## MOUNT google drive"
      ]
    },
    {
      "cell_type": "code",
      "metadata": {
        "colab": {
          "base_uri": "https://localhost:8080/"
        },
        "id": "hl4a3F-GvElB",
        "outputId": "ce36a538-ef97-46c1-866c-dca9c2f5fc96"
      },
      "source": [
        "if drive==1:\n",
        "  from google.colab import drive\n",
        "  drive.mount('/content/drive')"
      ],
      "execution_count": 5,
      "outputs": [
        {
          "output_type": "stream",
          "name": "stdout",
          "text": [
            "Mounted at /content/drive\n"
          ]
        }
      ]
    },
    {
      "cell_type": "markdown",
      "metadata": {
        "id": "Zr5-_g9PLkS_"
      },
      "source": [
        "## install geopandas and pyrpoj for collab"
      ]
    },
    {
      "cell_type": "code",
      "metadata": {
        "colab": {
          "base_uri": "https://localhost:8080/"
        },
        "id": "iLVMeu3nLp22",
        "outputId": "c62a0c8a-99b6-41ab-b6d9-42a6e57704d9"
      },
      "source": [
        "if colab==1:\n",
        "  !pip install geopandas\n",
        "  !pip install pyproj"
      ],
      "execution_count": 6,
      "outputs": [
        {
          "output_type": "stream",
          "name": "stdout",
          "text": [
            "Collecting geopandas\n",
            "  Downloading geopandas-0.10.2-py2.py3-none-any.whl (1.0 MB)\n",
            "\u001b[?25l\r\u001b[K     |▎                               | 10 kB 25.0 MB/s eta 0:00:01\r\u001b[K     |▋                               | 20 kB 29.5 MB/s eta 0:00:01\r\u001b[K     |█                               | 30 kB 35.0 MB/s eta 0:00:01\r\u001b[K     |█▎                              | 40 kB 24.4 MB/s eta 0:00:01\r\u001b[K     |█▋                              | 51 kB 20.7 MB/s eta 0:00:01\r\u001b[K     |██                              | 61 kB 15.0 MB/s eta 0:00:01\r\u001b[K     |██▎                             | 71 kB 15.6 MB/s eta 0:00:01\r\u001b[K     |██▌                             | 81 kB 17.1 MB/s eta 0:00:01\r\u001b[K     |██▉                             | 92 kB 17.5 MB/s eta 0:00:01\r\u001b[K     |███▏                            | 102 kB 12.8 MB/s eta 0:00:01\r\u001b[K     |███▌                            | 112 kB 12.8 MB/s eta 0:00:01\r\u001b[K     |███▉                            | 122 kB 12.8 MB/s eta 0:00:01\r\u001b[K     |████▏                           | 133 kB 12.8 MB/s eta 0:00:01\r\u001b[K     |████▌                           | 143 kB 12.8 MB/s eta 0:00:01\r\u001b[K     |████▊                           | 153 kB 12.8 MB/s eta 0:00:01\r\u001b[K     |█████                           | 163 kB 12.8 MB/s eta 0:00:01\r\u001b[K     |█████▍                          | 174 kB 12.8 MB/s eta 0:00:01\r\u001b[K     |█████▊                          | 184 kB 12.8 MB/s eta 0:00:01\r\u001b[K     |██████                          | 194 kB 12.8 MB/s eta 0:00:01\r\u001b[K     |██████▍                         | 204 kB 12.8 MB/s eta 0:00:01\r\u001b[K     |██████▊                         | 215 kB 12.8 MB/s eta 0:00:01\r\u001b[K     |███████                         | 225 kB 12.8 MB/s eta 0:00:01\r\u001b[K     |███████▎                        | 235 kB 12.8 MB/s eta 0:00:01\r\u001b[K     |███████▋                        | 245 kB 12.8 MB/s eta 0:00:01\r\u001b[K     |████████                        | 256 kB 12.8 MB/s eta 0:00:01\r\u001b[K     |████████▎                       | 266 kB 12.8 MB/s eta 0:00:01\r\u001b[K     |████████▋                       | 276 kB 12.8 MB/s eta 0:00:01\r\u001b[K     |█████████                       | 286 kB 12.8 MB/s eta 0:00:01\r\u001b[K     |█████████▏                      | 296 kB 12.8 MB/s eta 0:00:01\r\u001b[K     |█████████▌                      | 307 kB 12.8 MB/s eta 0:00:01\r\u001b[K     |█████████▉                      | 317 kB 12.8 MB/s eta 0:00:01\r\u001b[K     |██████████▏                     | 327 kB 12.8 MB/s eta 0:00:01\r\u001b[K     |██████████▌                     | 337 kB 12.8 MB/s eta 0:00:01\r\u001b[K     |██████████▉                     | 348 kB 12.8 MB/s eta 0:00:01\r\u001b[K     |███████████▏                    | 358 kB 12.8 MB/s eta 0:00:01\r\u001b[K     |███████████▍                    | 368 kB 12.8 MB/s eta 0:00:01\r\u001b[K     |███████████▊                    | 378 kB 12.8 MB/s eta 0:00:01\r\u001b[K     |████████████                    | 389 kB 12.8 MB/s eta 0:00:01\r\u001b[K     |████████████▍                   | 399 kB 12.8 MB/s eta 0:00:01\r\u001b[K     |████████████▊                   | 409 kB 12.8 MB/s eta 0:00:01\r\u001b[K     |█████████████                   | 419 kB 12.8 MB/s eta 0:00:01\r\u001b[K     |█████████████▍                  | 430 kB 12.8 MB/s eta 0:00:01\r\u001b[K     |█████████████▋                  | 440 kB 12.8 MB/s eta 0:00:01\r\u001b[K     |██████████████                  | 450 kB 12.8 MB/s eta 0:00:01\r\u001b[K     |██████████████▎                 | 460 kB 12.8 MB/s eta 0:00:01\r\u001b[K     |██████████████▋                 | 471 kB 12.8 MB/s eta 0:00:01\r\u001b[K     |███████████████                 | 481 kB 12.8 MB/s eta 0:00:01\r\u001b[K     |███████████████▎                | 491 kB 12.8 MB/s eta 0:00:01\r\u001b[K     |███████████████▋                | 501 kB 12.8 MB/s eta 0:00:01\r\u001b[K     |███████████████▉                | 512 kB 12.8 MB/s eta 0:00:01\r\u001b[K     |████████████████▏               | 522 kB 12.8 MB/s eta 0:00:01\r\u001b[K     |████████████████▌               | 532 kB 12.8 MB/s eta 0:00:01\r\u001b[K     |████████████████▉               | 542 kB 12.8 MB/s eta 0:00:01\r\u001b[K     |█████████████████▏              | 552 kB 12.8 MB/s eta 0:00:01\r\u001b[K     |█████████████████▌              | 563 kB 12.8 MB/s eta 0:00:01\r\u001b[K     |█████████████████▉              | 573 kB 12.8 MB/s eta 0:00:01\r\u001b[K     |██████████████████              | 583 kB 12.8 MB/s eta 0:00:01\r\u001b[K     |██████████████████▍             | 593 kB 12.8 MB/s eta 0:00:01\r\u001b[K     |██████████████████▊             | 604 kB 12.8 MB/s eta 0:00:01\r\u001b[K     |███████████████████             | 614 kB 12.8 MB/s eta 0:00:01\r\u001b[K     |███████████████████▍            | 624 kB 12.8 MB/s eta 0:00:01\r\u001b[K     |███████████████████▊            | 634 kB 12.8 MB/s eta 0:00:01\r\u001b[K     |████████████████████            | 645 kB 12.8 MB/s eta 0:00:01\r\u001b[K     |████████████████████▎           | 655 kB 12.8 MB/s eta 0:00:01\r\u001b[K     |████████████████████▋           | 665 kB 12.8 MB/s eta 0:00:01\r\u001b[K     |█████████████████████           | 675 kB 12.8 MB/s eta 0:00:01\r\u001b[K     |█████████████████████▎          | 686 kB 12.8 MB/s eta 0:00:01\r\u001b[K     |█████████████████████▋          | 696 kB 12.8 MB/s eta 0:00:01\r\u001b[K     |██████████████████████          | 706 kB 12.8 MB/s eta 0:00:01\r\u001b[K     |██████████████████████▎         | 716 kB 12.8 MB/s eta 0:00:01\r\u001b[K     |██████████████████████▋         | 727 kB 12.8 MB/s eta 0:00:01\r\u001b[K     |██████████████████████▉         | 737 kB 12.8 MB/s eta 0:00:01\r\u001b[K     |███████████████████████▏        | 747 kB 12.8 MB/s eta 0:00:01\r\u001b[K     |███████████████████████▌        | 757 kB 12.8 MB/s eta 0:00:01\r\u001b[K     |███████████████████████▉        | 768 kB 12.8 MB/s eta 0:00:01\r\u001b[K     |████████████████████████▏       | 778 kB 12.8 MB/s eta 0:00:01\r\u001b[K     |████████████████████████▌       | 788 kB 12.8 MB/s eta 0:00:01\r\u001b[K     |████████████████████████▉       | 798 kB 12.8 MB/s eta 0:00:01\r\u001b[K     |█████████████████████████       | 808 kB 12.8 MB/s eta 0:00:01\r\u001b[K     |█████████████████████████▍      | 819 kB 12.8 MB/s eta 0:00:01\r\u001b[K     |█████████████████████████▊      | 829 kB 12.8 MB/s eta 0:00:01\r\u001b[K     |██████████████████████████      | 839 kB 12.8 MB/s eta 0:00:01\r\u001b[K     |██████████████████████████▍     | 849 kB 12.8 MB/s eta 0:00:01\r\u001b[K     |██████████████████████████▊     | 860 kB 12.8 MB/s eta 0:00:01\r\u001b[K     |███████████████████████████     | 870 kB 12.8 MB/s eta 0:00:01\r\u001b[K     |███████████████████████████▎    | 880 kB 12.8 MB/s eta 0:00:01\r\u001b[K     |███████████████████████████▋    | 890 kB 12.8 MB/s eta 0:00:01\r\u001b[K     |████████████████████████████    | 901 kB 12.8 MB/s eta 0:00:01\r\u001b[K     |████████████████████████████▎   | 911 kB 12.8 MB/s eta 0:00:01\r\u001b[K     |████████████████████████████▋   | 921 kB 12.8 MB/s eta 0:00:01\r\u001b[K     |█████████████████████████████   | 931 kB 12.8 MB/s eta 0:00:01\r\u001b[K     |█████████████████████████████▎  | 942 kB 12.8 MB/s eta 0:00:01\r\u001b[K     |█████████████████████████████▌  | 952 kB 12.8 MB/s eta 0:00:01\r\u001b[K     |█████████████████████████████▉  | 962 kB 12.8 MB/s eta 0:00:01\r\u001b[K     |██████████████████████████████▏ | 972 kB 12.8 MB/s eta 0:00:01\r\u001b[K     |██████████████████████████████▌ | 983 kB 12.8 MB/s eta 0:00:01\r\u001b[K     |██████████████████████████████▉ | 993 kB 12.8 MB/s eta 0:00:01\r\u001b[K     |███████████████████████████████▏| 1.0 MB 12.8 MB/s eta 0:00:01\r\u001b[K     |███████████████████████████████▌| 1.0 MB 12.8 MB/s eta 0:00:01\r\u001b[K     |███████████████████████████████▊| 1.0 MB 12.8 MB/s eta 0:00:01\r\u001b[K     |████████████████████████████████| 1.0 MB 12.8 MB/s \n",
            "\u001b[?25hRequirement already satisfied: shapely>=1.6 in /usr/local/lib/python3.7/dist-packages (from geopandas) (1.8.0)\n",
            "Requirement already satisfied: pandas>=0.25.0 in /usr/local/lib/python3.7/dist-packages (from geopandas) (1.1.5)\n",
            "Collecting pyproj>=2.2.0\n",
            "  Downloading pyproj-3.2.1-cp37-cp37m-manylinux2010_x86_64.whl (6.3 MB)\n",
            "\u001b[K     |████████████████████████████████| 6.3 MB 32.7 MB/s \n",
            "\u001b[?25hCollecting fiona>=1.8\n",
            "  Downloading Fiona-1.8.20-cp37-cp37m-manylinux1_x86_64.whl (15.4 MB)\n",
            "\u001b[K     |████████████████████████████████| 15.4 MB 23.5 MB/s \n",
            "\u001b[?25hCollecting click-plugins>=1.0\n",
            "  Downloading click_plugins-1.1.1-py2.py3-none-any.whl (7.5 kB)\n",
            "Requirement already satisfied: attrs>=17 in /usr/local/lib/python3.7/dist-packages (from fiona>=1.8->geopandas) (21.2.0)\n",
            "Requirement already satisfied: six>=1.7 in /usr/local/lib/python3.7/dist-packages (from fiona>=1.8->geopandas) (1.15.0)\n",
            "Requirement already satisfied: certifi in /usr/local/lib/python3.7/dist-packages (from fiona>=1.8->geopandas) (2021.10.8)\n",
            "Collecting cligj>=0.5\n",
            "  Downloading cligj-0.7.2-py3-none-any.whl (7.1 kB)\n",
            "Requirement already satisfied: setuptools in /usr/local/lib/python3.7/dist-packages (from fiona>=1.8->geopandas) (57.4.0)\n",
            "Requirement already satisfied: click>=4.0 in /usr/local/lib/python3.7/dist-packages (from fiona>=1.8->geopandas) (7.1.2)\n",
            "Collecting munch\n",
            "  Downloading munch-2.5.0-py2.py3-none-any.whl (10 kB)\n",
            "Requirement already satisfied: python-dateutil>=2.7.3 in /usr/local/lib/python3.7/dist-packages (from pandas>=0.25.0->geopandas) (2.8.2)\n",
            "Requirement already satisfied: numpy>=1.15.4 in /usr/local/lib/python3.7/dist-packages (from pandas>=0.25.0->geopandas) (1.19.5)\n",
            "Requirement already satisfied: pytz>=2017.2 in /usr/local/lib/python3.7/dist-packages (from pandas>=0.25.0->geopandas) (2018.9)\n",
            "Installing collected packages: munch, cligj, click-plugins, pyproj, fiona, geopandas\n",
            "Successfully installed click-plugins-1.1.1 cligj-0.7.2 fiona-1.8.20 geopandas-0.10.2 munch-2.5.0 pyproj-3.2.1\n",
            "Requirement already satisfied: pyproj in /usr/local/lib/python3.7/dist-packages (3.2.1)\n",
            "Requirement already satisfied: certifi in /usr/local/lib/python3.7/dist-packages (from pyproj) (2021.10.8)\n"
          ]
        }
      ]
    },
    {
      "cell_type": "markdown",
      "metadata": {
        "id": "ScNALglSLetG"
      },
      "source": [
        "# Import libraries"
      ]
    },
    {
      "cell_type": "code",
      "metadata": {
        "id": "IDS-KZ-Evbpu"
      },
      "source": [
        "from osgeo import gdal\n",
        "import shapely.geometry as geom\n",
        "import geopandas as gpd\n",
        "import numpy as np"
      ],
      "execution_count": 7,
      "outputs": []
    },
    {
      "cell_type": "code",
      "metadata": {
        "id": "uOHDeogWvtNM"
      },
      "source": [
        "import pandas as pd\n",
        "from pyproj import Proj"
      ],
      "execution_count": 8,
      "outputs": []
    },
    {
      "cell_type": "markdown",
      "metadata": {
        "id": "p4bUlVnuYtkO"
      },
      "source": [
        "# Create rectangle inside lat min lat max lon min lon max"
      ]
    },
    {
      "cell_type": "code",
      "metadata": {
        "id": "z-xJzBz7igAn"
      },
      "source": [
        "p1 = geom.Point(lonmin,latmin)\n",
        "p2 = geom.Point(lonmax,latmin)\n",
        "p3 = geom.Point(lonmax,latmax)\n",
        "p4 = geom.Point(lonmin,latmax)\n",
        "\n",
        "pointList = [p1, p2, p3, p4, p1]\n",
        "\n",
        "Rectangle=geom.Polygon([[p.x, p.y] for p in pointList])"
      ],
      "execution_count": 9,
      "outputs": []
    },
    {
      "cell_type": "markdown",
      "metadata": {
        "id": "MzaQCUw4Ym9P"
      },
      "source": [
        "# Open LUCAS shapefile (fnshp)"
      ]
    },
    {
      "cell_type": "code",
      "metadata": {
        "id": "ei6_GUgvU0hy"
      },
      "source": [
        "gdf = gpd.read_file(fnshp)"
      ],
      "execution_count": 10,
      "outputs": []
    },
    {
      "cell_type": "markdown",
      "metadata": {
        "id": "fQDp0TiWZIXV"
      },
      "source": [
        "## select data inside the rectangle"
      ]
    },
    {
      "cell_type": "code",
      "metadata": {
        "id": "PyZn-UQTVKBi"
      },
      "source": [
        "fgdf=gdf.loc[gdf.within(Rectangle)==True]"
      ],
      "execution_count": 11,
      "outputs": []
    },
    {
      "cell_type": "markdown",
      "metadata": {
        "id": "XBPp-cK5ZOJK"
      },
      "source": [
        "# Open LUCAS attributes csv (fncsv)"
      ]
    },
    {
      "cell_type": "code",
      "metadata": {
        "colab": {
          "base_uri": "https://localhost:8080/"
        },
        "id": "ig7v5cZ3zFfl",
        "outputId": "133ed35d-6124-410d-e6c4-813f06ae1cd3"
      },
      "source": [
        "df=pd.read_csv(fncsv)"
      ],
      "execution_count": 12,
      "outputs": [
        {
          "output_type": "stream",
          "name": "stderr",
          "text": [
            "/usr/local/lib/python3.7/dist-packages/IPython/core/interactiveshell.py:2718: DtypeWarning: Columns (43) have mixed types.Specify dtype option on import or set low_memory=False.\n",
            "  interactivity=interactivity, compiler=compiler, result=result)\n"
          ]
        }
      ]
    },
    {
      "cell_type": "markdown",
      "metadata": {
        "id": "y-aZdxbQZjwu"
      },
      "source": [
        "## select attributes inside rectangle"
      ]
    },
    {
      "cell_type": "code",
      "metadata": {
        "id": "3Q6h_9fGZrre"
      },
      "source": [
        "fildf=df.iloc[gdf.loc[gdf.within(Rectangle)==True].index].reset_index(level=0)"
      ],
      "execution_count": 13,
      "outputs": []
    },
    {
      "cell_type": "markdown",
      "metadata": {
        "id": "3NShuFDcbZrL"
      },
      "source": [
        "# Merge attributes with locations"
      ]
    },
    {
      "cell_type": "code",
      "metadata": {
        "id": "Y_6r_TBxb4TP"
      },
      "source": [
        "fgdf=fgdf.reset_index(level=0)"
      ],
      "execution_count": 14,
      "outputs": []
    },
    {
      "cell_type": "code",
      "metadata": {
        "id": "pbbtJYJgbyBA"
      },
      "source": [
        "fgdf['LC1']=fildf.LC1\n",
        "fgdf['LU1']=fildf.LU1\n",
        "fgdf['LC2']=fildf.LC2\n",
        "fgdf['LU2']=fildf.LU2"
      ],
      "execution_count": 15,
      "outputs": []
    },
    {
      "cell_type": "code",
      "metadata": {
        "id": "_wID0rigRUbV",
        "outputId": "1167eda1-b97b-48a5-a8d8-150beb18afbd",
        "colab": {
          "base_uri": "https://localhost:8080/"
        }
      },
      "source": [
        "np.unique(df.LC1.values)"
      ],
      "execution_count": 24,
      "outputs": [
        {
          "output_type": "execute_result",
          "data": {
            "text/plain": [
              "array(['A11', 'A12', 'A13', 'A21', 'A22', 'A30', 'B11', 'B12', 'B13',\n",
              "       'B14', 'B15', 'B16', 'B17', 'B18', 'B19', 'B21', 'B22', 'B23',\n",
              "       'B31', 'B32', 'B33', 'B34', 'B35', 'B36', 'B37', 'B41', 'B42',\n",
              "       'B43', 'B44', 'B45', 'B51', 'B52', 'B53', 'B54', 'B55', 'B71',\n",
              "       'B72', 'B73', 'B74', 'B75', 'B76', 'B77', 'B81', 'B82', 'B83',\n",
              "       'B84', 'C10', 'C21', 'C22', 'C23', 'C31', 'C32', 'C33', 'D10',\n",
              "       'D20', 'E10', 'E20', 'E30', 'F10', 'F20', 'F30', 'F40', 'G11',\n",
              "       'G21', 'G30', 'H11', 'H12', 'H21', 'H22', 'H23'], dtype=object)"
            ]
          },
          "metadata": {},
          "execution_count": 24
        }
      ]
    },
    {
      "cell_type": "code",
      "metadata": {
        "colab": {
          "base_uri": "https://localhost:8080/"
        },
        "id": "ksG8spXVd7Q2",
        "outputId": "33d6283e-2095-4292-9b94-4a15cf98463c"
      },
      "source": [
        "np.unique(df.LC2.values)"
      ],
      "execution_count": 25,
      "outputs": [
        {
          "output_type": "execute_result",
          "data": {
            "text/plain": [
              "array(['8', 'B11', 'B12', 'B13', 'B14', 'B15', 'B16', 'B18', 'B19', 'B22',\n",
              "       'B23', 'B31', 'B32', 'B35', 'B41', 'B42', 'B43', 'B51', 'B52',\n",
              "       'B53', 'B54', 'B55', 'B71', 'B72', 'B73', 'B74', 'B75', 'B76',\n",
              "       'B77', 'B81', 'B82', 'B84', 'C10', 'C31', 'D10', 'D20', 'E10',\n",
              "       'E20', 'E30', 'F10', 'F20', 'F40'], dtype=object)"
            ]
          },
          "metadata": {},
          "execution_count": 25
        }
      ]
    }
  ]
}