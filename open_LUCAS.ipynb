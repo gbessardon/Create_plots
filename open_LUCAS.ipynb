{
  "nbformat": 4,
  "nbformat_minor": 0,
  "metadata": {
    "colab": {
      "name": "open_LUCAS.ipynb",
      "provenance": [],
      "toc_visible": true,
      "authorship_tag": "ABX9TyPaN3Hd1l+QSdF2yCvSgctR",
      "include_colab_link": true
    },
    "kernelspec": {
      "display_name": "Python 3",
      "name": "python3"
    }
  },
  "cells": [
    {
      "cell_type": "markdown",
      "metadata": {
        "id": "view-in-github",
        "colab_type": "text"
      },
      "source": [
        "<a href=\"https://colab.research.google.com/github/gbessardon/Create_plots/blob/main/open_LUCAS.ipynb\" target=\"_parent\"><img src=\"https://colab.research.google.com/assets/colab-badge.svg\" alt=\"Open In Colab\"/></a>"
      ]
    },
    {
      "cell_type": "markdown",
      "metadata": {
        "id": "m0M_liqWtcDD"
      },
      "source": [
        "# Relevant litterature\n",
        "## LUCAS Copernicus 2018: Earth Observation relevant in-situ data on land cover throughout the European Union paper\n",
        "https://essd.copernicus.org/preprints/essd-2020-178/essd-2020-178.pdf\n",
        "\n",
        "\n",
        "\n",
        "\n",
        "## csv labels description\n",
        "https://ec.europa.eu/eurostat/documents/205002/8072634/LUCAS2018-RecordDescriptor-190611.pdf\n",
        "\n",
        "## C3 classification Land cover & land use\n",
        "\n",
        "https://ec.europa.eu/eurostat/documents/205002/8072634/LUCAS2018-C3-Classification.pdf\n",
        "\n",
        "## Technical reference document C5 Plant Identification Guide\n",
        "\n",
        "https://ec.europa.eu/eurostat/documents/205002/8072634/LUCAS2018-C5-PlantIdentificationGuide.pdf"
      ]
    },
    {
      "cell_type": "markdown",
      "metadata": {
        "id": "LZ-O88W8MBlH"
      },
      "source": [
        "# Declare variable and file location"
      ]
    },
    {
      "cell_type": "markdown",
      "metadata": {
        "id": "b4wQbDlSN6Bi"
      },
      "source": [
        "## Running environment options"
      ]
    },
    {
      "cell_type": "code",
      "metadata": {
        "id": "XJWc6DY9MG-i"
      },
      "source": [
        "colab=1 # 1 running on google collab\n",
        "drive=1 # 1 need to mount google drive"
      ],
      "execution_count": 1,
      "outputs": []
    },
    {
      "cell_type": "markdown",
      "metadata": {
        "id": "TJMxXKuzN-dB"
      },
      "source": [
        "## LUCAS file location"
      ]
    },
    {
      "cell_type": "code",
      "metadata": {
        "id": "EuN9LJJrOIHu"
      },
      "source": [
        "fnshp='/content/drive/MyDrive/LUCAS2018/LUCAS_2018_Copernicus_polygons.shp'"
      ],
      "execution_count": null,
      "outputs": []
    },
    {
      "cell_type": "markdown",
      "metadata": {
        "id": "E8R3EdQ-ORhX"
      },
      "source": [
        "## Latitude Longitude min max"
      ]
    },
    {
      "cell_type": "code",
      "metadata": {
        "id": "A0kBTUmGOLW-"
      },
      "source": [
        "latmin=50\n",
        "latmax=56\n",
        "lonmin=-11\n",
        "lonmax=-4"
      ],
      "execution_count": null,
      "outputs": []
    },
    {
      "cell_type": "markdown",
      "metadata": {
        "id": "uqk_WAGMLyBX"
      },
      "source": [
        "# Run on collab and drive"
      ]
    },
    {
      "cell_type": "markdown",
      "metadata": {
        "id": "-putHlFQLYnQ"
      },
      "source": [
        "## MOUNT google drive"
      ]
    },
    {
      "cell_type": "code",
      "metadata": {
        "colab": {
          "base_uri": "https://localhost:8080/"
        },
        "id": "hl4a3F-GvElB",
        "outputId": "279880ff-6026-43d7-e19d-1e4c67851a04"
      },
      "source": [
        "if drive==1:\n",
        "  from google.colab import drive\n",
        "  drive.mount('/content/drive')"
      ],
      "execution_count": 2,
      "outputs": [
        {
          "output_type": "stream",
          "name": "stdout",
          "text": [
            "Mounted at /content/drive\n"
          ]
        }
      ]
    },
    {
      "cell_type": "markdown",
      "metadata": {
        "id": "Zr5-_g9PLkS_"
      },
      "source": [
        "## install geopandas and pyrpoj for collab"
      ]
    },
    {
      "cell_type": "code",
      "metadata": {
        "id": "iLVMeu3nLp22",
        "outputId": "f5d60906-522e-4fb0-da01-415485843bfb",
        "colab": {
          "base_uri": "https://localhost:8080/"
        }
      },
      "source": [
        "if colab==1:\n",
        "  !pip install geopandas\n",
        "  !pip install pyproj"
      ],
      "execution_count": 3,
      "outputs": [
        {
          "output_type": "stream",
          "name": "stdout",
          "text": [
            "Collecting geopandas\n",
            "  Downloading geopandas-0.10.2-py2.py3-none-any.whl (1.0 MB)\n",
            "\u001b[?25l\r\u001b[K     |▎                               | 10 kB 24.8 MB/s eta 0:00:01\r\u001b[K     |▋                               | 20 kB 26.8 MB/s eta 0:00:01\r\u001b[K     |█                               | 30 kB 30.5 MB/s eta 0:00:01\r\u001b[K     |█▎                              | 40 kB 27.3 MB/s eta 0:00:01\r\u001b[K     |█▋                              | 51 kB 26.3 MB/s eta 0:00:01\r\u001b[K     |██                              | 61 kB 26.5 MB/s eta 0:00:01\r\u001b[K     |██▎                             | 71 kB 27.3 MB/s eta 0:00:01\r\u001b[K     |██▌                             | 81 kB 28.9 MB/s eta 0:00:01\r\u001b[K     |██▉                             | 92 kB 29.3 MB/s eta 0:00:01\r\u001b[K     |███▏                            | 102 kB 28.8 MB/s eta 0:00:01\r\u001b[K     |███▌                            | 112 kB 28.8 MB/s eta 0:00:01\r\u001b[K     |███▉                            | 122 kB 28.8 MB/s eta 0:00:01\r\u001b[K     |████▏                           | 133 kB 28.8 MB/s eta 0:00:01\r\u001b[K     |████▌                           | 143 kB 28.8 MB/s eta 0:00:01\r\u001b[K     |████▊                           | 153 kB 28.8 MB/s eta 0:00:01\r\u001b[K     |█████                           | 163 kB 28.8 MB/s eta 0:00:01\r\u001b[K     |█████▍                          | 174 kB 28.8 MB/s eta 0:00:01\r\u001b[K     |█████▊                          | 184 kB 28.8 MB/s eta 0:00:01\r\u001b[K     |██████                          | 194 kB 28.8 MB/s eta 0:00:01\r\u001b[K     |██████▍                         | 204 kB 28.8 MB/s eta 0:00:01\r\u001b[K     |██████▊                         | 215 kB 28.8 MB/s eta 0:00:01\r\u001b[K     |███████                         | 225 kB 28.8 MB/s eta 0:00:01\r\u001b[K     |███████▎                        | 235 kB 28.8 MB/s eta 0:00:01\r\u001b[K     |███████▋                        | 245 kB 28.8 MB/s eta 0:00:01\r\u001b[K     |████████                        | 256 kB 28.8 MB/s eta 0:00:01\r\u001b[K     |████████▎                       | 266 kB 28.8 MB/s eta 0:00:01\r\u001b[K     |████████▋                       | 276 kB 28.8 MB/s eta 0:00:01\r\u001b[K     |█████████                       | 286 kB 28.8 MB/s eta 0:00:01\r\u001b[K     |█████████▏                      | 296 kB 28.8 MB/s eta 0:00:01\r\u001b[K     |█████████▌                      | 307 kB 28.8 MB/s eta 0:00:01\r\u001b[K     |█████████▉                      | 317 kB 28.8 MB/s eta 0:00:01\r\u001b[K     |██████████▏                     | 327 kB 28.8 MB/s eta 0:00:01\r\u001b[K     |██████████▌                     | 337 kB 28.8 MB/s eta 0:00:01\r\u001b[K     |██████████▉                     | 348 kB 28.8 MB/s eta 0:00:01\r\u001b[K     |███████████▏                    | 358 kB 28.8 MB/s eta 0:00:01\r\u001b[K     |███████████▍                    | 368 kB 28.8 MB/s eta 0:00:01\r\u001b[K     |███████████▊                    | 378 kB 28.8 MB/s eta 0:00:01\r\u001b[K     |████████████                    | 389 kB 28.8 MB/s eta 0:00:01\r\u001b[K     |████████████▍                   | 399 kB 28.8 MB/s eta 0:00:01\r\u001b[K     |████████████▊                   | 409 kB 28.8 MB/s eta 0:00:01\r\u001b[K     |█████████████                   | 419 kB 28.8 MB/s eta 0:00:01\r\u001b[K     |█████████████▍                  | 430 kB 28.8 MB/s eta 0:00:01\r\u001b[K     |█████████████▋                  | 440 kB 28.8 MB/s eta 0:00:01\r\u001b[K     |██████████████                  | 450 kB 28.8 MB/s eta 0:00:01\r\u001b[K     |██████████████▎                 | 460 kB 28.8 MB/s eta 0:00:01\r\u001b[K     |██████████████▋                 | 471 kB 28.8 MB/s eta 0:00:01\r\u001b[K     |███████████████                 | 481 kB 28.8 MB/s eta 0:00:01\r\u001b[K     |███████████████▎                | 491 kB 28.8 MB/s eta 0:00:01\r\u001b[K     |███████████████▋                | 501 kB 28.8 MB/s eta 0:00:01\r\u001b[K     |███████████████▉                | 512 kB 28.8 MB/s eta 0:00:01\r\u001b[K     |████████████████▏               | 522 kB 28.8 MB/s eta 0:00:01\r\u001b[K     |████████████████▌               | 532 kB 28.8 MB/s eta 0:00:01\r\u001b[K     |████████████████▉               | 542 kB 28.8 MB/s eta 0:00:01\r\u001b[K     |█████████████████▏              | 552 kB 28.8 MB/s eta 0:00:01\r\u001b[K     |█████████████████▌              | 563 kB 28.8 MB/s eta 0:00:01\r\u001b[K     |█████████████████▉              | 573 kB 28.8 MB/s eta 0:00:01\r\u001b[K     |██████████████████              | 583 kB 28.8 MB/s eta 0:00:01\r\u001b[K     |██████████████████▍             | 593 kB 28.8 MB/s eta 0:00:01\r\u001b[K     |██████████████████▊             | 604 kB 28.8 MB/s eta 0:00:01\r\u001b[K     |███████████████████             | 614 kB 28.8 MB/s eta 0:00:01\r\u001b[K     |███████████████████▍            | 624 kB 28.8 MB/s eta 0:00:01\r\u001b[K     |███████████████████▊            | 634 kB 28.8 MB/s eta 0:00:01\r\u001b[K     |████████████████████            | 645 kB 28.8 MB/s eta 0:00:01\r\u001b[K     |████████████████████▎           | 655 kB 28.8 MB/s eta 0:00:01\r\u001b[K     |████████████████████▋           | 665 kB 28.8 MB/s eta 0:00:01\r\u001b[K     |█████████████████████           | 675 kB 28.8 MB/s eta 0:00:01\r\u001b[K     |█████████████████████▎          | 686 kB 28.8 MB/s eta 0:00:01\r\u001b[K     |█████████████████████▋          | 696 kB 28.8 MB/s eta 0:00:01\r\u001b[K     |██████████████████████          | 706 kB 28.8 MB/s eta 0:00:01\r\u001b[K     |██████████████████████▎         | 716 kB 28.8 MB/s eta 0:00:01\r\u001b[K     |██████████████████████▋         | 727 kB 28.8 MB/s eta 0:00:01\r\u001b[K     |██████████████████████▉         | 737 kB 28.8 MB/s eta 0:00:01\r\u001b[K     |███████████████████████▏        | 747 kB 28.8 MB/s eta 0:00:01\r\u001b[K     |███████████████████████▌        | 757 kB 28.8 MB/s eta 0:00:01\r\u001b[K     |███████████████████████▉        | 768 kB 28.8 MB/s eta 0:00:01\r\u001b[K     |████████████████████████▏       | 778 kB 28.8 MB/s eta 0:00:01\r\u001b[K     |████████████████████████▌       | 788 kB 28.8 MB/s eta 0:00:01\r\u001b[K     |████████████████████████▉       | 798 kB 28.8 MB/s eta 0:00:01\r\u001b[K     |█████████████████████████       | 808 kB 28.8 MB/s eta 0:00:01\r\u001b[K     |█████████████████████████▍      | 819 kB 28.8 MB/s eta 0:00:01\r\u001b[K     |█████████████████████████▊      | 829 kB 28.8 MB/s eta 0:00:01\r\u001b[K     |██████████████████████████      | 839 kB 28.8 MB/s eta 0:00:01\r\u001b[K     |██████████████████████████▍     | 849 kB 28.8 MB/s eta 0:00:01\r\u001b[K     |██████████████████████████▊     | 860 kB 28.8 MB/s eta 0:00:01\r\u001b[K     |███████████████████████████     | 870 kB 28.8 MB/s eta 0:00:01\r\u001b[K     |███████████████████████████▎    | 880 kB 28.8 MB/s eta 0:00:01\r\u001b[K     |███████████████████████████▋    | 890 kB 28.8 MB/s eta 0:00:01\r\u001b[K     |████████████████████████████    | 901 kB 28.8 MB/s eta 0:00:01\r\u001b[K     |████████████████████████████▎   | 911 kB 28.8 MB/s eta 0:00:01\r\u001b[K     |████████████████████████████▋   | 921 kB 28.8 MB/s eta 0:00:01\r\u001b[K     |█████████████████████████████   | 931 kB 28.8 MB/s eta 0:00:01\r\u001b[K     |█████████████████████████████▎  | 942 kB 28.8 MB/s eta 0:00:01\r\u001b[K     |█████████████████████████████▌  | 952 kB 28.8 MB/s eta 0:00:01\r\u001b[K     |█████████████████████████████▉  | 962 kB 28.8 MB/s eta 0:00:01\r\u001b[K     |██████████████████████████████▏ | 972 kB 28.8 MB/s eta 0:00:01\r\u001b[K     |██████████████████████████████▌ | 983 kB 28.8 MB/s eta 0:00:01\r\u001b[K     |██████████████████████████████▉ | 993 kB 28.8 MB/s eta 0:00:01\r\u001b[K     |███████████████████████████████▏| 1.0 MB 28.8 MB/s eta 0:00:01\r\u001b[K     |███████████████████████████████▌| 1.0 MB 28.8 MB/s eta 0:00:01\r\u001b[K     |███████████████████████████████▊| 1.0 MB 28.8 MB/s eta 0:00:01\r\u001b[K     |████████████████████████████████| 1.0 MB 28.8 MB/s \n",
            "\u001b[?25hRequirement already satisfied: pandas>=0.25.0 in /usr/local/lib/python3.7/dist-packages (from geopandas) (1.1.5)\n",
            "Requirement already satisfied: shapely>=1.6 in /usr/local/lib/python3.7/dist-packages (from geopandas) (1.8.0)\n",
            "Collecting pyproj>=2.2.0\n",
            "  Downloading pyproj-3.2.1-cp37-cp37m-manylinux2010_x86_64.whl (6.3 MB)\n",
            "\u001b[K     |████████████████████████████████| 6.3 MB 60.7 MB/s \n",
            "\u001b[?25hCollecting fiona>=1.8\n",
            "  Downloading Fiona-1.8.20-cp37-cp37m-manylinux1_x86_64.whl (15.4 MB)\n",
            "\u001b[K     |████████████████████████████████| 15.4 MB 40.9 MB/s \n",
            "\u001b[?25hRequirement already satisfied: click>=4.0 in /usr/local/lib/python3.7/dist-packages (from fiona>=1.8->geopandas) (7.1.2)\n",
            "Requirement already satisfied: certifi in /usr/local/lib/python3.7/dist-packages (from fiona>=1.8->geopandas) (2021.10.8)\n",
            "Requirement already satisfied: attrs>=17 in /usr/local/lib/python3.7/dist-packages (from fiona>=1.8->geopandas) (21.2.0)\n",
            "Requirement already satisfied: setuptools in /usr/local/lib/python3.7/dist-packages (from fiona>=1.8->geopandas) (57.4.0)\n",
            "Requirement already satisfied: six>=1.7 in /usr/local/lib/python3.7/dist-packages (from fiona>=1.8->geopandas) (1.15.0)\n",
            "Collecting munch\n",
            "  Downloading munch-2.5.0-py2.py3-none-any.whl (10 kB)\n",
            "Collecting cligj>=0.5\n",
            "  Downloading cligj-0.7.2-py3-none-any.whl (7.1 kB)\n",
            "Collecting click-plugins>=1.0\n",
            "  Downloading click_plugins-1.1.1-py2.py3-none-any.whl (7.5 kB)\n",
            "Requirement already satisfied: numpy>=1.15.4 in /usr/local/lib/python3.7/dist-packages (from pandas>=0.25.0->geopandas) (1.19.5)\n",
            "Requirement already satisfied: pytz>=2017.2 in /usr/local/lib/python3.7/dist-packages (from pandas>=0.25.0->geopandas) (2018.9)\n",
            "Requirement already satisfied: python-dateutil>=2.7.3 in /usr/local/lib/python3.7/dist-packages (from pandas>=0.25.0->geopandas) (2.8.2)\n",
            "Installing collected packages: munch, cligj, click-plugins, pyproj, fiona, geopandas\n",
            "Successfully installed click-plugins-1.1.1 cligj-0.7.2 fiona-1.8.20 geopandas-0.10.2 munch-2.5.0 pyproj-3.2.1\n",
            "Requirement already satisfied: pyproj in /usr/local/lib/python3.7/dist-packages (3.2.1)\n",
            "Requirement already satisfied: certifi in /usr/local/lib/python3.7/dist-packages (from pyproj) (2021.10.8)\n"
          ]
        }
      ]
    },
    {
      "cell_type": "markdown",
      "metadata": {
        "id": "ScNALglSLetG"
      },
      "source": [
        "# Import libraries"
      ]
    },
    {
      "cell_type": "code",
      "metadata": {
        "id": "IDS-KZ-Evbpu"
      },
      "source": [
        "from osgeo import gdal\n",
        "import shapely.geometry as geom\n",
        "import geopandas as gpd\n",
        "import numpy as np"
      ],
      "execution_count": 4,
      "outputs": []
    },
    {
      "cell_type": "code",
      "metadata": {
        "id": "uOHDeogWvtNM"
      },
      "source": [
        "import pandas as pd\n",
        "from pyproj import Proj"
      ],
      "execution_count": 6,
      "outputs": []
    },
    {
      "cell_type": "code",
      "metadata": {
        "id": "z-xJzBz7igAn"
      },
      "source": [
        "latmin=50\n",
        "latmax=56\n",
        "lonmin=-11\n",
        "lonmax=-4\n",
        "p1 = geom.Point(lonmin,latmin)\n",
        "p2 = geom.Point(lonmax,latmin)\n",
        "p3 = geom.Point(lonmax,latmax)\n",
        "p4 = geom.Point(lonmin,latmax)\n",
        "\n",
        "pointList = [p1, p2, p3, p4, p1]\n",
        "\n",
        "Rectangle=geom.Polygon([[p.x, p.y] for p in pointList])"
      ],
      "execution_count": 7,
      "outputs": []
    },
    {
      "cell_type": "code",
      "metadata": {
        "id": "ei6_GUgvU0hy"
      },
      "source": [
        "gdf = gpd.read_file(fn)"
      ],
      "execution_count": 8,
      "outputs": []
    },
    {
      "cell_type": "code",
      "metadata": {
        "id": "PyZn-UQTVKBi"
      },
      "source": [
        "fgdf=gdf.loc[gdf.within(Rectangle)==True]"
      ],
      "execution_count": 9,
      "outputs": []
    },
    {
      "cell_type": "code",
      "metadata": {
        "colab": {
          "base_uri": "https://localhost:8080/"
        },
        "id": "ig7v5cZ3zFfl",
        "outputId": "8d2f1c79-9382-4188-826f-4644babbcd0f"
      },
      "source": [
        "df=pd.read_csv('/content/drive/MyDrive/LUCAS2018/LUCAS_2018_Copernicus_attributes.csv')\n",
        "fildf=df.iloc[gdf.loc[gdf.within(Rectangle)==True].index]"
      ],
      "execution_count": 10,
      "outputs": [
        {
          "output_type": "stream",
          "name": "stderr",
          "text": [
            "/usr/local/lib/python3.7/dist-packages/IPython/core/interactiveshell.py:2718: DtypeWarning: Columns (43) have mixed types.Specify dtype option on import or set low_memory=False.\n",
            "  interactivity=interactivity, compiler=compiler, result=result)\n"
          ]
        }
      ]
    },
    {
      "cell_type": "code",
      "metadata": {
        "id": "fALOv56FXKMU"
      },
      "source": [
        "import numpy as np\n",
        "cover_list=np.unique(fildf.LC1)\n",
        "numbers=[np.where(f==cover_list)[0][0] for f in fildf.LC1]"
      ],
      "execution_count": 11,
      "outputs": []
    },
    {
      "cell_type": "code",
      "metadata": {
        "colab": {
          "base_uri": "https://localhost:8080/"
        },
        "id": "ksG8spXVd7Q2",
        "outputId": "8dd627f0-df76-4a5d-c064-04dd4b880ba2"
      },
      "source": [
        "fgdf['values']=numbers"
      ],
      "execution_count": 12,
      "outputs": [
        {
          "output_type": "stream",
          "name": "stderr",
          "text": [
            "/usr/local/lib/python3.7/dist-packages/geopandas/geodataframe.py:1351: SettingWithCopyWarning: \n",
            "A value is trying to be set on a copy of a slice from a DataFrame.\n",
            "Try using .loc[row_indexer,col_indexer] = value instead\n",
            "\n",
            "See the caveats in the documentation: https://pandas.pydata.org/pandas-docs/stable/user_guide/indexing.html#returning-a-view-versus-a-copy\n",
            "  super().__setitem__(key, value)\n"
          ]
        }
      ]
    },
    {
      "cell_type": "code",
      "metadata": {
        "colab": {
          "base_uri": "https://localhost:8080/"
        },
        "id": "AsTVk-djsAX2",
        "outputId": "eee8cb30-cda6-4fbf-de69-9bc5d0753d02"
      },
      "source": [
        "ds=gdal.Open('/content/drive/MyDrive/CORINE/u2018_clc2018_v2020_20u1_raster100m/DATA/U2018_CLC2018_V2020_20u1.tif')\n",
        "p=Proj(ds.GetProjection())\n",
        "ULX,ULY=p(lonmin,latmax)\n",
        "LRX,LRY=p(lonmax,latmin)\n",
        "opt=gdal.WarpOptions(xRes=10,yRes=10,outputBounds=(ULX, LRY, LRX, ULY),srcSRS=p.to_wkt())\n",
        "gdal.Warp('/content/smallcor.tif',ds,options=opt)"
      ],
      "execution_count": 13,
      "outputs": [
        {
          "output_type": "execute_result",
          "data": {
            "text/plain": [
              "<osgeo.gdal.Dataset; proxy of <Swig Object of type 'GDALDatasetShadow *' at 0x7f7a2476ede0> >"
            ]
          },
          "metadata": {},
          "execution_count": 13
        }
      ]
    },
    {
      "cell_type": "code",
      "metadata": {
        "colab": {
          "base_uri": "https://localhost:8080/"
        },
        "id": "iyNFa9vpl8qT",
        "outputId": "9e9b627a-9127-4087-b924-f7177fed4b4e"
      },
      "source": [
        "help(gdal.WarpOptions)"
      ],
      "execution_count": 14,
      "outputs": [
        {
          "output_type": "stream",
          "name": "stdout",
          "text": [
            "Help on function WarpOptions in module osgeo.gdal:\n",
            "\n",
            "WarpOptions(options=[], format='GTiff', outputBounds=None, outputBoundsSRS=None, xRes=None, yRes=None, targetAlignedPixels=False, width=0, height=0, srcSRS=None, dstSRS=None, srcAlpha=False, dstAlpha=False, warpOptions=None, errorThreshold=None, warpMemoryLimit=None, creationOptions=None, outputType=0, workingType=0, resampleAlg=None, srcNodata=None, dstNodata=None, multithread=False, tps=False, rpc=False, geoloc=False, polynomialOrder=None, transformerOptions=None, cutlineDSName=None, cutlineLayer=None, cutlineWhere=None, cutlineSQL=None, cutlineBlend=None, cropToCutline=False, copyMetadata=True, metadataConflictValue=None, setColorInterpretation=False, callback=None, callback_data=None)\n",
            "    Create a WarpOptions() object that can be passed to gdal.Warp()\n",
            "    Keyword arguments are :\n",
            "      options --- can be be an array of strings, a string or let empty and filled from other keywords.\n",
            "      format --- output format (\"GTiff\", etc...)\n",
            "      outputBounds --- output bounds as (minX, minY, maxX, maxY) in target SRS\n",
            "      outputBoundsSRS --- SRS in which output bounds are expressed, in the case they are not expressed in dstSRS\n",
            "      xRes, yRes --- output resolution in target SRS\n",
            "      targetAlignedPixels --- whether to force output bounds to be multiple of output resolution\n",
            "      width --- width of the output raster in pixel\n",
            "      height --- height of the output raster in pixel\n",
            "      srcSRS --- source SRS\n",
            "      dstSRS --- output SRS\n",
            "      srcAlpha --- whether to force the last band of the input dataset to be considered as an alpha band\n",
            "      dstAlpha --- whether to force the creation of an output alpha band\n",
            "      outputType --- output type (gdal.GDT_Byte, etc...)\n",
            "      workingType --- working type (gdal.GDT_Byte, etc...)\n",
            "      warpOptions --- list of warping options\n",
            "      errorThreshold --- error threshold for approximation transformer (in pixels)\n",
            "      warpMemoryLimit --- size of working buffer in bytes\n",
            "      resampleAlg --- resampling mode\n",
            "      creationOptions --- list of creation options\n",
            "      srcNodata --- source nodata value(s)\n",
            "      dstNodata --- output nodata value(s)\n",
            "      multithread --- whether to multithread computation and I/O operations\n",
            "      tps --- whether to use Thin Plate Spline GCP transformer\n",
            "      rpc --- whether to use RPC transformer\n",
            "      geoloc --- whether to use GeoLocation array transformer\n",
            "      polynomialOrder --- order of polynomial GCP interpolation\n",
            "      transformerOptions --- list of transformer options\n",
            "      cutlineDSName --- cutline dataset name\n",
            "      cutlineLayer --- cutline layer name\n",
            "      cutlineWhere --- cutline WHERE clause\n",
            "      cutlineSQL --- cutline SQL statement\n",
            "      cutlineBlend --- cutline blend distance in pixels\n",
            "      cropToCutline --- whether to use cutline extent for output bounds\n",
            "      copyMetadata --- whether to copy source metadata\n",
            "      metadataConflictValue --- metadata data conflict value\n",
            "      setColorInterpretation --- whether to force color interpretation of input bands to output bands\n",
            "      callback --- callback method\n",
            "      callback_data --- user data for callback\n",
            "\n"
          ]
        }
      ]
    },
    {
      "cell_type": "code",
      "metadata": {
        "id": "-0oPgvG10Rbb"
      },
      "source": [
        "dsc=gdal.Open('/content/smallcor.tif')\n",
        "#gdal.Warp('smallcorlatlon.tif',dsc,dstSRS='EPSG:4326')"
      ],
      "execution_count": 15,
      "outputs": []
    },
    {
      "cell_type": "code",
      "metadata": {
        "colab": {
          "base_uri": "https://localhost:8080/",
          "height": 165
        },
        "id": "7G5xNwo6hXmp",
        "outputId": "9b17d5a1-2415-40db-dc5b-18e5e8fa4269"
      },
      "source": [
        "Wopt=gdal.WarpOptions(srcSRS=ds.GetProjectionRef(), dstSRS=dstcrs,xRes=100,yRes=100,creationOptions=gdal.ParseCommandLine(\"-co COMPRESS=PACKBITS\"))"
      ],
      "execution_count": 16,
      "outputs": [
        {
          "output_type": "error",
          "ename": "NameError",
          "evalue": "ignored",
          "traceback": [
            "\u001b[0;31m---------------------------------------------------------------------------\u001b[0m",
            "\u001b[0;31mNameError\u001b[0m                                 Traceback (most recent call last)",
            "\u001b[0;32m<ipython-input-16-999ae29bb3b5>\u001b[0m in \u001b[0;36m<module>\u001b[0;34m()\u001b[0m\n\u001b[0;32m----> 1\u001b[0;31m \u001b[0mWopt\u001b[0m\u001b[0;34m=\u001b[0m\u001b[0mgdal\u001b[0m\u001b[0;34m.\u001b[0m\u001b[0mWarpOptions\u001b[0m\u001b[0;34m(\u001b[0m\u001b[0msrcSRS\u001b[0m\u001b[0;34m=\u001b[0m\u001b[0mds\u001b[0m\u001b[0;34m.\u001b[0m\u001b[0mGetProjectionRef\u001b[0m\u001b[0;34m(\u001b[0m\u001b[0;34m)\u001b[0m\u001b[0;34m,\u001b[0m \u001b[0mdstSRS\u001b[0m\u001b[0;34m=\u001b[0m\u001b[0mdstcrs\u001b[0m\u001b[0;34m,\u001b[0m\u001b[0mxRes\u001b[0m\u001b[0;34m=\u001b[0m\u001b[0;36m100\u001b[0m\u001b[0;34m,\u001b[0m\u001b[0myRes\u001b[0m\u001b[0;34m=\u001b[0m\u001b[0;36m100\u001b[0m\u001b[0;34m,\u001b[0m\u001b[0mcreationOptions\u001b[0m\u001b[0;34m=\u001b[0m\u001b[0mgdal\u001b[0m\u001b[0;34m.\u001b[0m\u001b[0mParseCommandLine\u001b[0m\u001b[0;34m(\u001b[0m\u001b[0;34m\"-co COMPRESS=PACKBITS\"\u001b[0m\u001b[0;34m)\u001b[0m\u001b[0;34m)\u001b[0m\u001b[0;34m\u001b[0m\u001b[0;34m\u001b[0m\u001b[0m\n\u001b[0m",
            "\u001b[0;31mNameError\u001b[0m: name 'dstcrs' is not defined"
          ]
        }
      ]
    }
  ]
}