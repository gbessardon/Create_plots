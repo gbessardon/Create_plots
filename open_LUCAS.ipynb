{
  "nbformat": 4,
  "nbformat_minor": 0,
  "metadata": {
    "colab": {
      "name": "open_LUCAS.ipynb",
      "provenance": [],
      "authorship_tag": "ABX9TyN8OvI53EJG7+oDQ1STO+YG",
      "include_colab_link": true
    },
    "kernelspec": {
      "display_name": "Python 3",
      "name": "python3"
    }
  },
  "cells": [
    {
      "cell_type": "markdown",
      "metadata": {
        "id": "view-in-github",
        "colab_type": "text"
      },
      "source": [
        "<a href=\"https://colab.research.google.com/github/gbessardon/Create_plots/blob/main/open_LUCAS.ipynb\" target=\"_parent\"><img src=\"https://colab.research.google.com/assets/colab-badge.svg\" alt=\"Open In Colab\"/></a>"
      ]
    },
    {
      "cell_type": "markdown",
      "metadata": {
        "id": "m0M_liqWtcDD"
      },
      "source": [
        "# Relevant litterature\n",
        "## LUCAS Copernicus 2018: Earth Observation relevant in-situ data on land cover throughout the European Union paper\n",
        "https://essd.copernicus.org/preprints/essd-2020-178/essd-2020-178.pdf\n",
        "\n",
        "\n",
        "\n",
        "\n",
        "## csv labels description\n",
        "https://ec.europa.eu/eurostat/documents/205002/8072634/LUCAS2018-RecordDescriptor-190611.pdf\n",
        "\n",
        "## C3 classification Land cover & land use\n",
        "\n",
        "https://ec.europa.eu/eurostat/documents/205002/8072634/LUCAS2018-C3-Classification.pdf\n",
        "\n",
        "## Technical reference document C5 Plant Identification Guide\n",
        "\n",
        "https://ec.europa.eu/eurostat/documents/205002/8072634/LUCAS2018-C5-PlantIdentificationGuide.pdf"
      ]
    },
    {
      "cell_type": "code",
      "metadata": {
        "colab": {
          "base_uri": "https://localhost:8080/"
        },
        "id": "hl4a3F-GvElB",
        "outputId": "15fd2579-5f90-47cf-c95a-24549ddaf87a"
      },
      "source": [
        "from google.colab import drive\n",
        "drive.mount('/content/drive')"
      ],
      "execution_count": null,
      "outputs": [
        {
          "name": "stdout",
          "output_type": "stream",
          "text": [
            "Drive already mounted at /content/drive; to attempt to forcibly remount, call drive.mount(\"/content/drive\", force_remount=True).\n"
          ]
        }
      ]
    },
    {
      "cell_type": "code",
      "metadata": {
        "id": "IDS-KZ-Evbpu"
      },
      "source": [
        "from osgeo import gdal"
      ],
      "execution_count": null,
      "outputs": []
    },
    {
      "cell_type": "code",
      "metadata": {
        "colab": {
          "background_save": true,
          "base_uri": "https://localhost:8080/"
        },
        "id": "sX-TyoU_ybU9",
        "outputId": "f3453939-7163-4fbe-84b2-efe2543f8be2"
      },
      "source": [
        "!pip install geopandas\n",
        "!pip install pyproj"
      ],
      "execution_count": null,
      "outputs": [
        {
          "name": "stdout",
          "output_type": "stream",
          "text": [
            "Collecting geopandas\n",
            "\u001b[?25l  Downloading https://files.pythonhosted.org/packages/d7/bf/e9cefb69d39155d122b6ddca53893b61535fa6ffdad70bf5ef708977f53f/geopandas-0.9.0-py2.py3-none-any.whl (994kB)\n",
            "\u001b[K     |████████████████████████████████| 1.0MB 4.3MB/s \n",
            "\u001b[?25hCollecting fiona>=1.8\n",
            "\u001b[?25l  Downloading https://files.pythonhosted.org/packages/47/c2/67d1d0acbaaee3b03e5e22e3b96c33219cb5dd392531c9ff9cee7c2eb3e4/Fiona-1.8.18-cp37-cp37m-manylinux1_x86_64.whl (14.8MB)\n",
            "\u001b[K     |████████████████████████████████| 14.8MB 284kB/s \n",
            "\u001b[?25hRequirement already satisfied: shapely>=1.6 in /usr/local/lib/python3.7/dist-packages (from geopandas) (1.7.1)\n",
            "Requirement already satisfied: pandas>=0.24.0 in /usr/local/lib/python3.7/dist-packages (from geopandas) (1.1.5)\n",
            "Collecting pyproj>=2.2.0\n",
            "\u001b[?25l  Downloading https://files.pythonhosted.org/packages/b1/72/d52e9ca81caef056062d71991b0e9b1d16af042245627c5d0e4916a36c4f/pyproj-3.0.1-cp37-cp37m-manylinux2010_x86_64.whl (6.5MB)\n",
            "\u001b[K     |████████████████████████████████| 6.5MB 41.4MB/s \n",
            "\u001b[?25hCollecting click-plugins>=1.0\n",
            "  Downloading https://files.pythonhosted.org/packages/e9/da/824b92d9942f4e472702488857914bdd50f73021efea15b4cad9aca8ecef/click_plugins-1.1.1-py2.py3-none-any.whl\n",
            "Requirement already satisfied: attrs>=17 in /usr/local/lib/python3.7/dist-packages (from fiona>=1.8->geopandas) (20.3.0)\n",
            "Collecting cligj>=0.5\n",
            "  Downloading https://files.pythonhosted.org/packages/42/1e/947eadf10d6804bf276eb8a038bd5307996dceaaa41cfd21b7a15ec62f5d/cligj-0.7.1-py3-none-any.whl\n",
            "Requirement already satisfied: click<8,>=4.0 in /usr/local/lib/python3.7/dist-packages (from fiona>=1.8->geopandas) (7.1.2)\n",
            "Requirement already satisfied: six>=1.7 in /usr/local/lib/python3.7/dist-packages (from fiona>=1.8->geopandas) (1.15.0)\n",
            "Requirement already satisfied: certifi in /usr/local/lib/python3.7/dist-packages (from fiona>=1.8->geopandas) (2020.12.5)\n",
            "Collecting munch\n",
            "  Downloading https://files.pythonhosted.org/packages/cc/ab/85d8da5c9a45e072301beb37ad7f833cd344e04c817d97e0cc75681d248f/munch-2.5.0-py2.py3-none-any.whl\n",
            "Requirement already satisfied: numpy>=1.15.4 in /usr/local/lib/python3.7/dist-packages (from pandas>=0.24.0->geopandas) (1.19.5)\n",
            "Requirement already satisfied: pytz>=2017.2 in /usr/local/lib/python3.7/dist-packages (from pandas>=0.24.0->geopandas) (2018.9)\n",
            "Requirement already satisfied: python-dateutil>=2.7.3 in /usr/local/lib/python3.7/dist-packages (from pandas>=0.24.0->geopandas) (2.8.1)\n",
            "Installing collected packages: click-plugins, cligj, munch, fiona, pyproj, geopandas\n",
            "Successfully installed click-plugins-1.1.1 cligj-0.7.1 fiona-1.8.18 geopandas-0.9.0 munch-2.5.0 pyproj-3.0.1\n",
            "Requirement already satisfied: pyproj in /usr/local/lib/python3.7/dist-packages (3.0.1)\n",
            "Requirement already satisfied: certifi in /usr/local/lib/python3.7/dist-packages (from pyproj) (2020.12.5)\n"
          ]
        }
      ]
    },
    {
      "cell_type": "code",
      "metadata": {
        "colab": {
          "background_save": true
        },
        "id": "w5Db9REsUxcr"
      },
      "source": [
        "import geopandas as gpd\n",
        "import numpy as np"
      ],
      "execution_count": null,
      "outputs": []
    },
    {
      "cell_type": "code",
      "metadata": {
        "colab": {
          "background_save": true
        },
        "id": "4Wx1A8HPiYGp"
      },
      "source": [
        "import shapely.geometry as geom"
      ],
      "execution_count": null,
      "outputs": []
    },
    {
      "cell_type": "code",
      "metadata": {
        "colab": {
          "background_save": true
        },
        "id": "gdWOwwXlvUvD"
      },
      "source": [
        "fn='/content/drive/MyDrive/LUCAS2018/LUCAS_2018_Copernicus_polygons.shp'"
      ],
      "execution_count": null,
      "outputs": []
    },
    {
      "cell_type": "code",
      "metadata": {
        "colab": {
          "background_save": true
        },
        "id": "uOHDeogWvtNM"
      },
      "source": [
        "import pandas as pd\n",
        "from pyproj import Proj"
      ],
      "execution_count": null,
      "outputs": []
    },
    {
      "cell_type": "code",
      "metadata": {
        "colab": {
          "background_save": true
        },
        "id": "z-xJzBz7igAn"
      },
      "source": [
        "latmin=50\n",
        "latmax=56\n",
        "lonmin=-11\n",
        "lonmax=-4\n",
        "p1 = geom.Point(lonmin,latmin)\n",
        "p2 = geom.Point(lonmax,latmin)\n",
        "p3 = geom.Point(lonmax,latmax)\n",
        "p4 = geom.Point(lonmin,latmax)\n",
        "\n",
        "pointList = [p1, p2, p3, p4, p1]\n",
        "\n",
        "Rectangle=geom.Polygon([[p.x, p.y] for p in pointList])"
      ],
      "execution_count": null,
      "outputs": []
    },
    {
      "cell_type": "code",
      "metadata": {
        "colab": {
          "background_save": true
        },
        "id": "ei6_GUgvU0hy"
      },
      "source": [
        "gdf = gpd.read_file(fn)"
      ],
      "execution_count": null,
      "outputs": []
    },
    {
      "cell_type": "code",
      "metadata": {
        "colab": {
          "background_save": true
        },
        "id": "PyZn-UQTVKBi"
      },
      "source": [
        "fgdf=gdf.loc[gdf.within(Rectangle)==True]"
      ],
      "execution_count": null,
      "outputs": []
    },
    {
      "cell_type": "code",
      "metadata": {
        "colab": {
          "base_uri": "https://localhost:8080/"
        },
        "id": "ig7v5cZ3zFfl",
        "outputId": "8dea0e9a-c6ed-4466-deb3-e62fb75f18b5"
      },
      "source": [
        "df=pd.read_csv('/content/drive/MyDrive/LUCAS2018/LUCAS_2018_Copernicus_attributes.csv')\n",
        "fildf=df.iloc[gdf.loc[gdf.within(Rectangle)==True].index]"
      ],
      "execution_count": null,
      "outputs": [
        {
          "name": "stderr",
          "output_type": "stream",
          "text": [
            "/usr/local/lib/python3.7/dist-packages/IPython/core/interactiveshell.py:2718: DtypeWarning: Columns (43) have mixed types.Specify dtype option on import or set low_memory=False.\n",
            "  interactivity=interactivity, compiler=compiler, result=result)\n"
          ]
        }
      ]
    },
    {
      "cell_type": "code",
      "metadata": {
        "id": "fALOv56FXKMU"
      },
      "source": [
        "import numpy as np\n",
        "cover_list=np.unique(fildf.LC1)\n",
        "numbers=[np.where(f==cover_list)[0][0] for f in fildf.LC1]"
      ],
      "execution_count": null,
      "outputs": []
    },
    {
      "cell_type": "code",
      "metadata": {
        "colab": {
          "base_uri": "https://localhost:8080/"
        },
        "id": "ksG8spXVd7Q2",
        "outputId": "2e24f17d-5bd8-49b8-c61a-85b4ca6be1b7"
      },
      "source": [
        "fgdf['values']=numbers"
      ],
      "execution_count": null,
      "outputs": [
        {
          "name": "stderr",
          "output_type": "stream",
          "text": [
            "/usr/local/lib/python3.7/dist-packages/geopandas/geodataframe.py:1322: SettingWithCopyWarning: \n",
            "A value is trying to be set on a copy of a slice from a DataFrame.\n",
            "Try using .loc[row_indexer,col_indexer] = value instead\n",
            "\n",
            "See the caveats in the documentation: https://pandas.pydata.org/pandas-docs/stable/user_guide/indexing.html#returning-a-view-versus-a-copy\n",
            "  super(GeoDataFrame, self).__setitem__(key, value)\n"
          ]
        }
      ]
    },
    {
      "cell_type": "code",
      "metadata": {
        "colab": {
          "background_save": true,
          "base_uri": "https://localhost:8080/"
        },
        "id": "AsTVk-djsAX2",
        "outputId": "3aa0df87-2e7a-4203-cdc2-e126342a9c03"
      },
      "source": [
        "ds=gdal.Open('/content/drive/MyDrive/CORINE/u2018_clc2018_v2020_20u1_raster100m/DATA/U2018_CLC2018_V2020_20u1.tif')\n",
        "p=Proj(ds.GetProjection())\n",
        "ULX,ULY=p(lonmin,latmax)\n",
        "LRX,LRY=p(lonmax,latmin)\n",
        "opt=gdal.WarpOptions(xRes=10,yRes=10,outputBounds=(ULX, LRY, LRX, ULY),srcSRS=p.to_wkt())\n",
        "gdal.Warp('/content/smallcor.tif',ds,options=opt)"
      ],
      "execution_count": null,
      "outputs": [
        {
          "data": {
            "text/plain": [
              "<osgeo.gdal.Dataset; proxy of <Swig Object of type 'GDALDatasetShadow *' at 0x7f900fcdd8a0> >"
            ]
          },
          "execution_count": null,
          "metadata": {},
          "output_type": "execute_result"
        }
      ]
    },
    {
      "cell_type": "code",
      "metadata": {
        "colab": {
          "base_uri": "https://localhost:8080/"
        },
        "id": "iyNFa9vpl8qT",
        "outputId": "0400c981-c0bc-49f9-db7e-9bd8ae7a690d"
      },
      "source": [
        "help(gdal.WarpOptions)"
      ],
      "execution_count": null,
      "outputs": [
        {
          "name": "stdout",
          "output_type": "stream",
          "text": [
            "Help on function WarpOptions in module osgeo.gdal:\n",
            "\n",
            "WarpOptions(options=[], format='GTiff', outputBounds=None, outputBoundsSRS=None, xRes=None, yRes=None, targetAlignedPixels=False, width=0, height=0, srcSRS=None, dstSRS=None, srcAlpha=False, dstAlpha=False, warpOptions=None, errorThreshold=None, warpMemoryLimit=None, creationOptions=None, outputType=0, workingType=0, resampleAlg=None, srcNodata=None, dstNodata=None, multithread=False, tps=False, rpc=False, geoloc=False, polynomialOrder=None, transformerOptions=None, cutlineDSName=None, cutlineLayer=None, cutlineWhere=None, cutlineSQL=None, cutlineBlend=None, cropToCutline=False, copyMetadata=True, metadataConflictValue=None, setColorInterpretation=False, callback=None, callback_data=None)\n",
            "    Create a WarpOptions() object that can be passed to gdal.Warp()\n",
            "    Keyword arguments are :\n",
            "      options --- can be be an array of strings, a string or let empty and filled from other keywords.\n",
            "      format --- output format (\"GTiff\", etc...)\n",
            "      outputBounds --- output bounds as (minX, minY, maxX, maxY) in target SRS\n",
            "      outputBoundsSRS --- SRS in which output bounds are expressed, in the case they are not expressed in dstSRS\n",
            "      xRes, yRes --- output resolution in target SRS\n",
            "      targetAlignedPixels --- whether to force output bounds to be multiple of output resolution\n",
            "      width --- width of the output raster in pixel\n",
            "      height --- height of the output raster in pixel\n",
            "      srcSRS --- source SRS\n",
            "      dstSRS --- output SRS\n",
            "      srcAlpha --- whether to force the last band of the input dataset to be considered as an alpha band\n",
            "      dstAlpha --- whether to force the creation of an output alpha band\n",
            "      outputType --- output type (gdal.GDT_Byte, etc...)\n",
            "      workingType --- working type (gdal.GDT_Byte, etc...)\n",
            "      warpOptions --- list of warping options\n",
            "      errorThreshold --- error threshold for approximation transformer (in pixels)\n",
            "      warpMemoryLimit --- size of working buffer in bytes\n",
            "      resampleAlg --- resampling mode\n",
            "      creationOptions --- list of creation options\n",
            "      srcNodata --- source nodata value(s)\n",
            "      dstNodata --- output nodata value(s)\n",
            "      multithread --- whether to multithread computation and I/O operations\n",
            "      tps --- whether to use Thin Plate Spline GCP transformer\n",
            "      rpc --- whether to use RPC transformer\n",
            "      geoloc --- whether to use GeoLocation array transformer\n",
            "      polynomialOrder --- order of polynomial GCP interpolation\n",
            "      transformerOptions --- list of transformer options\n",
            "      cutlineDSName --- cutline dataset name\n",
            "      cutlineLayer --- cutline layer name\n",
            "      cutlineWhere --- cutline WHERE clause\n",
            "      cutlineSQL --- cutline SQL statement\n",
            "      cutlineBlend --- cutline blend distance in pixels\n",
            "      cropToCutline --- whether to use cutline extent for output bounds\n",
            "      copyMetadata --- whether to copy source metadata\n",
            "      metadataConflictValue --- metadata data conflict value\n",
            "      setColorInterpretation --- whether to force color interpretation of input bands to output bands\n",
            "      callback --- callback method\n",
            "      callback_data --- user data for callback\n",
            "\n"
          ]
        }
      ]
    },
    {
      "cell_type": "code",
      "metadata": {
        "id": "-0oPgvG10Rbb"
      },
      "source": [
        "dsc=gdal.Open('/content/smallcor.tif')\n",
        "#gdal.Warp('smallcorlatlon.tif',dsc,dstSRS='EPSG:4326')"
      ],
      "execution_count": null,
      "outputs": []
    },
    {
      "cell_type": "code",
      "metadata": {
        "colab": {
          "base_uri": "https://localhost:8080/",
          "height": 52
        },
        "id": "7G5xNwo6hXmp",
        "outputId": "ccea8c2f-b95f-4a14-d726-34fe557e642b"
      },
      "source": [
        "Wopt=gdal.WarpOptions(srcSRS=ds.GetProjectionRef(), dstSRS=dstcrs,xRes=100,yRes=100,creationOptions=gdal.ParseCommandLine(\"-co COMPRESS=PACKBITS\"))"
      ],
      "execution_count": null,
      "outputs": [
        {
          "data": {
            "application/vnd.google.colaboratory.intrinsic+json": {
              "type": "string"
            },
            "text/plain": [
              "'CONVERSION[\"PROJ-based coordinate operation\",METHOD[\"PROJ-based operation method: +proj=laea +lat_0=52 +lon_0=10 +x_0=4321000 +y_0=3210000 +ellps=GRS80 +units=m +no_defs\"]]'"
            ]
          },
          "execution_count": 27,
          "metadata": {
            "tags": []
          },
          "output_type": "execute_result"
        }
      ]
    }
  ]
}