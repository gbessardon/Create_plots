{
  "nbformat": 4,
  "nbformat_minor": 0,
  "metadata": {
    "colab": {
      "name": "Open_UW_get_projection.ipynb",
      "provenance": [],
      "mount_file_id": "1Sr9M_i0GOb1rLIR8rC5TQAC3WH_kHWYh",
      "authorship_tag": "ABX9TyPBAYs5SE1xnz4kMYPI/0bP",
      "include_colab_link": true
    },
    "kernelspec": {
      "name": "python3",
      "display_name": "Python 3"
    },
    "language_info": {
      "name": "python"
    }
  },
  "cells": [
    {
      "cell_type": "markdown",
      "metadata": {
        "id": "view-in-github",
        "colab_type": "text"
      },
      "source": [
        "<a href=\"https://colab.research.google.com/github/gbessardon/Create_plots/blob/main/Open_UW_get_projection.ipynb\" target=\"_parent\"><img src=\"https://colab.research.google.com/assets/colab-badge.svg\" alt=\"Open In Colab\"/></a>"
      ]
    },
    {
      "cell_type": "markdown",
      "metadata": {
        "id": "_Ki3c9F7a_00"
      },
      "source": [
        "# Import libraries"
      ]
    },
    {
      "cell_type": "code",
      "metadata": {
        "colab": {
          "base_uri": "https://localhost:8080/"
        },
        "id": "Zh1BdHGUZQtM",
        "outputId": "3acf1f27-bdb2-48b2-d9e6-c9e260aae87a"
      },
      "source": [
        "!pip install rasterio"
      ],
      "execution_count": null,
      "outputs": [
        {
          "output_type": "stream",
          "text": [
            "Requirement already satisfied: rasterio in /usr/local/lib/python3.7/dist-packages (1.2.6)\n",
            "Requirement already satisfied: numpy in /usr/local/lib/python3.7/dist-packages (from rasterio) (1.19.5)\n",
            "Requirement already satisfied: affine in /usr/local/lib/python3.7/dist-packages (from rasterio) (2.3.0)\n",
            "Requirement already satisfied: setuptools in /usr/local/lib/python3.7/dist-packages (from rasterio) (57.0.0)\n",
            "Requirement already satisfied: certifi in /usr/local/lib/python3.7/dist-packages (from rasterio) (2021.5.30)\n",
            "Requirement already satisfied: attrs in /usr/local/lib/python3.7/dist-packages (from rasterio) (21.2.0)\n",
            "Requirement already satisfied: click>=4.0 in /usr/local/lib/python3.7/dist-packages (from rasterio) (7.1.2)\n",
            "Requirement already satisfied: snuggs>=1.4.1 in /usr/local/lib/python3.7/dist-packages (from rasterio) (1.4.7)\n",
            "Requirement already satisfied: click-plugins in /usr/local/lib/python3.7/dist-packages (from rasterio) (1.1.1)\n",
            "Requirement already satisfied: cligj>=0.5 in /usr/local/lib/python3.7/dist-packages (from rasterio) (0.7.2)\n",
            "Requirement already satisfied: pyparsing>=2.1.6 in /usr/local/lib/python3.7/dist-packages (from snuggs>=1.4.1->rasterio) (2.4.7)\n"
          ],
          "name": "stdout"
        }
      ]
    },
    {
      "cell_type": "code",
      "metadata": {
        "id": "aq0X81w-u7cl"
      },
      "source": [
        "from osgeo import gdal\n",
        "import matplotlib.image as img\n",
        "import os\n",
        "import numpy as np\n",
        "import tifffile as tif\n",
        "import xml.etree.ElementTree as ET\n",
        "import tifffile as tif\n",
        "import matplotlib.pyplot as plt\n",
        "import rasterio\n",
        "import cv2\n",
        "from rasterio import plot\n",
        "from rasterio.plot import show\n",
        "from skimage import exposure"
      ],
      "execution_count": null,
      "outputs": []
    },
    {
      "cell_type": "markdown",
      "metadata": {
        "id": "Aq-L3bybd7iR"
      },
      "source": [
        "# Link to the folder\n",
        "https://drive.google.com/drive/folders/1tqy81Szl9owtgwFUSkdpvke_aGKS9jF-?usp=sharing\n",
        "The UW map is divided by tiles which are for ireland projected in UTM29 and UTM30\n",
        "the folder is structure is:\n",
        "/content/drive/MyDrive/UW_map/:\n",
        "\n",
        "\n",
        "*   T29\n",
        "\n",
        "> Dublin\n",
        "\n",
        "> ...\n",
        "\n",
        "\n",
        "\n",
        "\n",
        "*  T30\n",
        "\n",
        "\n",
        "> Sea Dublin\n",
        "\n",
        "\n",
        "> Sea Atrim\n",
        "\n",
        "\n",
        "\n",
        "> Down\n",
        "\n",
        "\n",
        "\n",
        "\n",
        "\n"
      ]
    },
    {
      "cell_type": "code",
      "metadata": {
        "id": "5i22ysBjcq6e"
      },
      "source": [
        "dirfiles='/content/drive/MyDrive/UW_map/T29/Dublin'\n",
        "primaryorsecondary=1 #1 Primary 2 secondary"
      ],
      "execution_count": null,
      "outputs": []
    },
    {
      "cell_type": "code",
      "metadata": {
        "id": "mlny8fpIvas8"
      },
      "source": [
        "def directorystructure(dirfiles,primaryorsecondary):\n",
        "  if 'T29' in dirfiles:\n",
        "    projection='EPSG:32629' # UTM 29 code\n",
        "  if 'T30' in dirfiles:\n",
        "    projection='EPSG:32630' # UTM 30 code\n",
        "\n",
        "  if primaryorsecondary==1:\n",
        "    pathending='Primary Prediction.tif'\n",
        "  if primaryorsecondary==2:\n",
        "    pathending='Secondary Prediction.tif'\n",
        "\n",
        "  predictionfn=os.path.join(dirfiles,pathending)\n",
        "  \n",
        "  return(projection,predictionfn)"
      ],
      "execution_count": null,
      "outputs": []
    },
    {
      "cell_type": "markdown",
      "metadata": {
        "id": "wjtIMLhGZn28"
      },
      "source": [
        "# Declare functions"
      ]
    },
    {
      "cell_type": "markdown",
      "metadata": {
        "id": "8N2T8IgOZYgM"
      },
      "source": [
        "## Functions to get the metadata"
      ]
    },
    {
      "cell_type": "code",
      "metadata": {
        "id": "X8DfD-y6vg0C"
      },
      "source": [
        "def sentinel2safepath(path):\n",
        "  \"\"\"\n",
        "  obtain the safe path to the sentinel-2 .SAFE dir containing image and it's metadata\n",
        "  path=the city path i.e /content/drive/MyDrive/UW_map/T29/Dublin\n",
        "  return the sentinel-2 .SAFE dir containing image and it's metadata\n",
        "  \"\"\"\n",
        "  safepath=[os.path.join(path,f) for f in os.listdir(path) if f.endswith('SAFE')]\n",
        "  if len(safepath[0])>1:\n",
        "    safepath=safepath[0]\n",
        "  return(safepath)\n",
        "\n",
        "def metadata_folder(path):\n",
        "    \n",
        "    \"\"\"obtain the path to the metadata file for sentinel-2 tiles \n",
        "        \n",
        "        path = path of the sentinel-2 '.Safe' product file\n",
        "        \n",
        "        Returns: the path to the directory containing the metadata file\n",
        "        \n",
        "    \"\"\"\n",
        "    \n",
        "    new_path=os.path.join(path,'GRANULE',os.listdir(os.path.join(path,'GRANULE'))[0],'MTD_TL.xml')\n",
        "    \n",
        "    return new_path \n",
        "\n",
        "def location_datac(path):\n",
        "    \n",
        "    \"\"\" parse the xml metadata file and retrieve the utm coordinates of the tile\n",
        "    \n",
        "        path: path to the xml metadata file\n",
        "    \n",
        "        Returns: utm coordinate of the top left and bottom right corners of the tile\n",
        "    \"\"\"\n",
        "    \n",
        "    tree = (ET.parse(path)).getroot() #parse the file\n",
        "    \n",
        "    x_length = 10*int(tree[1][0][2][0].text) #obtain the x_dim length\n",
        "    \n",
        "    y_length = 10*int(tree[1][0][2][1].text) #obtain the y_dim length\n",
        "    \n",
        "    upper_left_x = int(tree[1][0][5][0].text) #obtain upper left x coordinate\n",
        "    \n",
        "    upper_left_y = int(tree[1][0][5][1].text) #obtain upper left y coordinate\n",
        "    \n",
        "    lower_right_x = upper_left_x + x_length #obtain lower right x coordinate\n",
        "    \n",
        "    lower_right_y = upper_left_y - y_length #obtain lower right y coordinate\n",
        "    \n",
        "    return upper_left_x,upper_left_y,lower_right_x,lower_right_y "
      ],
      "execution_count": null,
      "outputs": []
    },
    {
      "cell_type": "markdown",
      "metadata": {
        "id": "P4NcsnE9ZVLS"
      },
      "source": [
        "## functions to open the sentinel-2 file"
      ]
    },
    {
      "cell_type": "code",
      "metadata": {
        "id": "AmF8WJIxXUhx"
      },
      "source": [
        "def ten_path(path):\n",
        "    \n",
        "    \"\"\"obtain the path to the 10 metre resolution sentinel-2 tiles from the \n",
        "        overall directory\n",
        "        \n",
        "        path = path of the sentinel-2 '.Safe' product file\n",
        "        \n",
        "        Returns: the path to the directory containing the 10 metre resolution .jp2 files\n",
        "        \n",
        "        \"\"\"\n",
        "    \n",
        "    new_path=os.path.join(path,'GRANULE',os.listdir(os.path.join(path,'GRANULE'))[0],'IMG_DATA','R10m')\n",
        "    \n",
        "    return new_path\n",
        "\n",
        "def norm(band):\n",
        "    band_min, band_max = band.min(), band.max()\n",
        "    return ((band - band_min)/(band_max - band_min))\n",
        "    \n",
        "def load_jp2(path):\n",
        "    \n",
        "    \"\"\"from the path obtained using ten_path() load the .jp2 files and then\n",
        "       create a 3 channel numpy array, corresponding to a rgb image\n",
        "        \n",
        "        path = path of 10m resolution product\n",
        "        \n",
        "        Returns: 3 channel array corresponding to rgb tile image\n",
        "        \n",
        "        \"\"\"\n",
        "    files = sorted(os.listdir(path))\n",
        "    \n",
        "    blue = rasterio.open(os.path.join(path,files[1]), driver='JP2OpenJPEG').read(1) #blue band .jp2 file\n",
        "    green = rasterio.open(os.path.join(path,files[2]), driver='JP2OpenJPEG').read(1)#green band .jp2 file\n",
        "    red = rasterio.open(os.path.join(path,files[3]), driver='JP2OpenJPEG').read(1) #red band .jp2 file\n",
        "\n",
        "    image = np.dstack((red,green,blue)) #stack the files and create rgb image\n",
        "\n",
        "    p2, p98 = np.percentile(image, (2,98)) # rescaling image\n",
        "    image=exposure.rescale_intensity(image, in_range=(p2, p98))/10000\n",
        "    if image.max()>1:\n",
        "      image=image/image.max()\n",
        "    return image\n",
        "    \n",
        "def save_tif(array,filename,load_tif=True):\n",
        "    \n",
        "    \"\"\"save the .jp2 arrays as tifs \n",
        "        \n",
        "        array = array obtained using load_jp2()\n",
        "        \n",
        "        filename = 'filename.tif'\n",
        "        \n",
        "        load_tif = True ---reload the tif just saved and return it\n",
        "        load_tif = False --- Don't load or return the tif\n",
        "        \n",
        "        Returns: 3 channel array corresponding to rgb tile image\n",
        "        \n",
        "        \"\"\"\n",
        "    \n",
        "    tif.imsave(filename,array) #save the array as a tif file\n",
        "    \n",
        "    #reload the tif previously saved and return as numpy array\n",
        "    if load_tif==True:\n",
        "            \n",
        "        image_tif = tif.imread(filename)\n",
        "            \n",
        "    return image_tif"
      ],
      "execution_count": null,
      "outputs": []
    },
    {
      "cell_type": "markdown",
      "metadata": {
        "id": "FofPr2YyZkP0"
      },
      "source": [
        "# Main"
      ]
    },
    {
      "cell_type": "markdown",
      "metadata": {
        "id": "blCILLkfb98k"
      },
      "source": [
        "## Get the prediction filename and the projection"
      ]
    },
    {
      "cell_type": "code",
      "metadata": {
        "id": "kMp0_YVdbv8U"
      },
      "source": [
        "projection,predictionfn=directorystructure(dirfiles,primaryorsecondary)"
      ],
      "execution_count": null,
      "outputs": []
    },
    {
      "cell_type": "code",
      "metadata": {
        "id": "XvayCZNJIclt"
      },
      "source": [
        "ds=gdal.Open(predictionfn)\n",
        "opt=gdal.TranslateOptions(xRes=10, yRes=10) \n",
        "gdal.Translate('Prediction10m.tif',ds,options=opt)\n",
        "ds=None"
      ],
      "execution_count": null,
      "outputs": []
    },
    {
      "cell_type": "markdown",
      "metadata": {
        "id": "SCb2YpKTcEYG"
      },
      "source": [
        "## Get the sentinel-2 .SAFE directory path"
      ]
    },
    {
      "cell_type": "code",
      "metadata": {
        "id": "7Uz9TfOLwBsw"
      },
      "source": [
        "s2path=sentinel2safepath(dirfiles)"
      ],
      "execution_count": null,
      "outputs": []
    },
    {
      "cell_type": "markdown",
      "metadata": {
        "id": "gTpSsGmGcL1Z"
      },
      "source": [
        "# Get the sentinel-2 metadata path"
      ]
    },
    {
      "cell_type": "code",
      "metadata": {
        "id": "LtdqgqNZwMdq"
      },
      "source": [
        "metadatapath=metadata_folder(s2path)"
      ],
      "execution_count": null,
      "outputs": []
    },
    {
      "cell_type": "markdown",
      "metadata": {
        "id": "IpmCkQLhcSVr"
      },
      "source": [
        "## Get the boundary of the sentinel-2 image (optional)"
      ]
    },
    {
      "cell_type": "code",
      "metadata": {
        "id": "L5vnKJ4owT3-"
      },
      "source": [
        "(ulx,uly,lrx,lry)=location_datac(metadatapath)"
      ],
      "execution_count": null,
      "outputs": []
    },
    {
      "cell_type": "markdown",
      "metadata": {
        "id": "0gBiEb93cdfj"
      },
      "source": [
        "## Get the 3 RGB sentinel-2 bands path"
      ]
    },
    {
      "cell_type": "code",
      "metadata": {
        "id": "nZ6xBFFAdBFm"
      },
      "source": [
        "ten_pathi = ten_path(s2path)"
      ],
      "execution_count": null,
      "outputs": []
    },
    {
      "cell_type": "markdown",
      "metadata": {
        "id": "cQrvPs2YdNVr"
      },
      "source": [
        "## Load the RGB bands normalize them and return them as an array"
      ]
    },
    {
      "cell_type": "code",
      "metadata": {
        "id": "qT6weUB39ZxP"
      },
      "source": [
        "image=load_jp2(ten_pathi)"
      ],
      "execution_count": null,
      "outputs": []
    },
    {
      "cell_type": "code",
      "metadata": {
        "id": "Up8v5xqH-lmG"
      },
      "source": [
        "image=(image[30:10950,30:10950,:]*255).astype(int) #the UW map is cropped because there is an overlay between the sentinel-2 files"
      ],
      "execution_count": null,
      "outputs": []
    },
    {
      "cell_type": "markdown",
      "metadata": {
        "id": "8TB0DPITMq_B"
      },
      "source": [
        "## Save the array as a sentinel-2 tif file"
      ]
    },
    {
      "cell_type": "code",
      "metadata": {
        "id": "nSS71GiJMqMU"
      },
      "source": [
        "refds=gdal.Open('Prediction10m.tif')\n",
        "refdriver=refds.GetDriver()"
      ],
      "execution_count": null,
      "outputs": []
    },
    {
      "cell_type": "code",
      "metadata": {
        "id": "8XMkay84NicO"
      },
      "source": [
        "output_raster=refdriver.Create('rgb.tif',image.shape[0],\n",
        "                               image.shape[1],\n",
        "                               image.shape[2],\n",
        "                               gdal.GDT_Int16)\n",
        "gt=refds.GetGeoTransform()\n",
        "out_proj=refds.GetProjection()\n",
        "output_raster.SetProjection(out_proj)\n",
        "output_raster.SetGeoTransform(gt)\n",
        "output_raster.GetRasterBand(1).WriteArray(image[:,:,0])   # write r-band to the raster\n",
        "output_raster.GetRasterBand(2).WriteArray(image[:,:,1])   # write g-band to the raster\n",
        "output_raster.GetRasterBand(3).WriteArray(image[:,:,2])   # write b-band to the raster\n",
        "output_raster.FlushCache() \n",
        "output_raster=None"
      ],
      "execution_count": null,
      "outputs": []
    },
    {
      "cell_type": "markdown",
      "metadata": {
        "id": "IFdmfdgpRI3Q"
      },
      "source": [
        "# Plot the 2 files"
      ]
    },
    {
      "cell_type": "code",
      "metadata": {
        "id": "PgB9eJSvSUXs"
      },
      "source": [
        "fig, axs = plt.subplots(1, 2)\n",
        "ax0=axs[0]\n",
        "ax0.imshow(gdal.Open('rgb.tif').ReadAsArray().transpose(1,2,0)[0:1000,0:1000,:])\n",
        "ax1=axs[1]\n",
        "ax1.imshow(gdal.Open('Prediction10m.tif').ReadAsArray()[0:1000,0:1000])"
      ],
      "execution_count": null,
      "outputs": []
    }
  ]
}